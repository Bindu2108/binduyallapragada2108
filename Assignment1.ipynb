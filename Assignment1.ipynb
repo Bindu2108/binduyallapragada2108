{
  "nbformat": 4,
  "nbformat_minor": 0,
  "metadata": {
    "colab": {
      "provenance": [],
      "authorship_tag": "ABX9TyPtvD+HjJUUSRdsltljzbJ1",
      "include_colab_link": true
    },
    "kernelspec": {
      "name": "python3",
      "display_name": "Python 3"
    },
    "language_info": {
      "name": "python"
    }
  },
  "cells": [
    {
      "cell_type": "markdown",
      "metadata": {
        "id": "view-in-github",
        "colab_type": "text"
      },
      "source": [
        "<a href=\"https://colab.research.google.com/github/Bindu2108/binduyallapragada2108/blob/main/Assignment1.ipynb\" target=\"_parent\"><img src=\"https://colab.research.google.com/assets/colab-badge.svg\" alt=\"Open In Colab\"/></a>"
      ]
    },
    {
      "cell_type": "code",
      "execution_count": 1,
      "metadata": {
        "colab": {
          "base_uri": "https://localhost:8080/"
        },
        "id": "uvFfGEZQ_Sci",
        "outputId": "5aaf71cf-8173-4836-cee8-2d2f395fbe55"
      },
      "outputs": [
        {
          "output_type": "stream",
          "name": "stdout",
          "text": [
            "Enter first number:5\n",
            "Enter second number:10\n",
            "addition of two given numbers: 15.0\n",
            "Subtraction of two given numbers: -5.0\n",
            "Multiplication of two given numbers: 50.0\n",
            "Division of two given numbers: 0.5\n"
          ]
        }
      ],
      "source": [
        "FirstNumber = float(input(\"Enter first number:\"))\n",
        "SecondNumber =float(input(\"Enter second number:\"))\n",
        "print(\"addition of two given numbers:\", FirstNumber + SecondNumber)\n",
        "print(\"Subtraction of two given numbers:\", FirstNumber - SecondNumber)\n",
        "print(\"Multiplication of two given numbers:\", FirstNumber * SecondNumber)\n",
        "print(\"Division of two given numbers:\", FirstNumber/SecondNumber)\n",
        ""
      ]
    },
    {
      "cell_type": "code",
      "source": [
        "string = input(\"Read an input string: \")\n",
        "for i in range(2):\n",
        "    string = string.replace(string[-2], \"\")\n",
        "print(string[::-1])"
      ],
      "metadata": {
        "colab": {
          "base_uri": "https://localhost:8080/"
        },
        "id": "XPwEIFO7_Uc3",
        "outputId": "2fb38838-1c10-45c2-c2ce-81b95657ce43"
      },
      "execution_count": 2,
      "outputs": [
        {
          "output_type": "stream",
          "name": "stdout",
          "text": [
            "Read an input string: python\n",
            "ntyp\n"
          ]
        }
      ]
    },
    {
      "cell_type": "code",
      "source": [
        "\n",
        "marks = float(input(\"Enter your percentage:\"))\n",
        "if marks >= 90:\n",
        "    print(\"Your grade is 'A'\")\n",
        "elif marks >= 80:\n",
        "    print(\"Your grade is 'B'\")\n",
        "elif marks >= 70:\n",
        "    print(\"Your grade is 'C'\")\n",
        "elif marks >= 60:\n",
        "    print(\"Your grade is 'D'\")\n",
        "else:\n",
        "    print(\"Your grade is 'F'\")\n",
        ""
      ],
      "metadata": {
        "colab": {
          "base_uri": "https://localhost:8080/"
        },
        "id": "41eMEIcm_i8W",
        "outputId": "99be60ac-f0b5-4459-b1fd-0f1875745efd"
      },
      "execution_count": 3,
      "outputs": [
        {
          "output_type": "stream",
          "name": "stdout",
          "text": [
            "Enter your percentage:80\n",
            "Your grade is 'B'\n"
          ]
        }
      ]
    },
    {
      "cell_type": "code",
      "source": [
        "\n",
        "string = input(\"Enter a String: \")\n",
        "string = string.replace(\"python\", \"pythons\")\n",
        "print(string)"
      ],
      "metadata": {
        "colab": {
          "base_uri": "https://localhost:8080/"
        },
        "id": "D8M7A5UV_nf0",
        "outputId": "406e51c0-994e-4283-f291-72d7b81415a6"
      },
      "execution_count": 4,
      "outputs": [
        {
          "output_type": "stream",
          "name": "stdout",
          "text": [
            "Enter a String: I like python\n",
            "I like pythons\n"
          ]
        }
      ]
    }
  ]
}